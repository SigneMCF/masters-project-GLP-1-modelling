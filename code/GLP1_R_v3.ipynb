{
 "cells": [
  {
   "cell_type": "code",
   "execution_count": 1,
   "metadata": {},
   "outputs": [
    {
     "ename": "ModuleNotFoundError",
     "evalue": "No module named 'Glp_R_pde_v3'",
     "output_type": "error",
     "traceback": [
      "\u001b[0;31m---------------------------------------------------------------------------\u001b[0m",
      "\u001b[0;31mModuleNotFoundError\u001b[0m                       Traceback (most recent call last)",
      "\u001b[0;32m/tmp/ipykernel_560/2418831349.py\u001b[0m in \u001b[0;36m<module>\u001b[0;34m\u001b[0m\n\u001b[1;32m      4\u001b[0m \u001b[0;31m#sys.path.append('/novo/users/{}/jupyter.notebooks/temporary/BayesChrom_lib/BayesChrom_UI/'.format(os.environ.get('USER')))\u001b[0m\u001b[0;34m\u001b[0m\u001b[0;34m\u001b[0m\u001b[0m\n\u001b[1;32m      5\u001b[0m \u001b[0msys\u001b[0m\u001b[0;34m.\u001b[0m\u001b[0mpath\u001b[0m\u001b[0;34m.\u001b[0m\u001b[0mappend\u001b[0m\u001b[0;34m(\u001b[0m\u001b[0;34m'/novo/users/{}/jupyter.notebooks/temporary/NIKU/'\u001b[0m\u001b[0;34m.\u001b[0m\u001b[0mformat\u001b[0m\u001b[0;34m(\u001b[0m\u001b[0mos\u001b[0m\u001b[0;34m.\u001b[0m\u001b[0menviron\u001b[0m\u001b[0;34m.\u001b[0m\u001b[0mget\u001b[0m\u001b[0;34m(\u001b[0m\u001b[0;34m'USER'\u001b[0m\u001b[0;34m)\u001b[0m\u001b[0;34m)\u001b[0m\u001b[0;34m)\u001b[0m\u001b[0;34m\u001b[0m\u001b[0;34m\u001b[0m\u001b[0m\n\u001b[0;32m----> 6\u001b[0;31m \u001b[0;32mimport\u001b[0m \u001b[0mGlp_R_pde_v3\u001b[0m\u001b[0;34m\u001b[0m\u001b[0;34m\u001b[0m\u001b[0m\n\u001b[0m\u001b[1;32m      7\u001b[0m \u001b[0mimportlib\u001b[0m\u001b[0;34m.\u001b[0m\u001b[0mreload\u001b[0m\u001b[0;34m(\u001b[0m\u001b[0mGlp_R_pde_v3\u001b[0m\u001b[0;34m)\u001b[0m\u001b[0;34m\u001b[0m\u001b[0;34m\u001b[0m\u001b[0m\n\u001b[1;32m      8\u001b[0m \u001b[0;32mimport\u001b[0m \u001b[0mmatplotlib\u001b[0m\u001b[0;34m.\u001b[0m\u001b[0mpyplot\u001b[0m \u001b[0;32mas\u001b[0m \u001b[0mplt\u001b[0m\u001b[0;34m\u001b[0m\u001b[0;34m\u001b[0m\u001b[0m\n",
      "\u001b[0;31mModuleNotFoundError\u001b[0m: No module named 'Glp_R_pde_v3'"
     ]
    }
   ],
   "source": [
    "import sys\n",
    "import os\n",
    "import importlib\n",
    "#sys.path.append('/novo/users/{}/jupyter.notebooks/temporary/BayesChrom_lib/BayesChrom_UI/'.format(os.environ.get('USER')))\n",
    "sys.path.append('/novo/users/{}/jupyter.notebooks/temporary/NIKU/'.format(os.environ.get('USER')))\n",
    "import Glp_R_pde_v3\n",
    "importlib.reload(Glp_R_pde_v3)\n",
    "import matplotlib.pyplot as plt\n",
    "from Glp_R_pde_v3 import *\n",
    "#from Glp_R_pde_2 import *"
   ]
  },
  {
   "cell_type": "markdown",
   "metadata": {},
   "source": [
    "# High affine model, receptor mediated clearance"
   ]
  },
  {
   "cell_type": "code",
   "execution_count": 2,
   "metadata": {},
   "outputs": [],
   "source": [
    "from parameters_df import *\n",
    "from pde_GUI import *"
   ]
  },
  {
   "cell_type": "code",
   "execution_count": 3,
   "metadata": {},
   "outputs": [
    {
     "data": {
      "application/vnd.jupyter.widget-view+json": {
       "model_id": "5df0f032f15543fcb834a6cb81568321",
       "version_major": 2,
       "version_minor": 0
      },
      "text/plain": [
       "VBox(children=(QgridWidget(grid_options={'fullWidthRows': True, 'syncColumnCellResize': True, 'forceFitColumns…"
      ]
     },
     "metadata": {},
     "output_type": "display_data"
    }
   ],
   "source": [
    "gui=pde_GUI()\n",
    "gui.create_ui()"
   ]
  },
  {
   "cell_type": "code",
   "execution_count": 4,
   "metadata": {},
   "outputs": [],
   "source": [
    "param=Parameters()\n",
    "decay_1=param.get('decay_1')*np.array([1,0.1])\n",
    "K_D=np.array([0.1,10])\n",
    "K_D_poor=np.array([10,1000])\n",
    "fraction=np.array([0.1,0.9])"
   ]
  },
  {
   "cell_type": "code",
   "execution_count": 5,
   "metadata": {},
   "outputs": [],
   "source": [
    "param=generate_scan(K_D=K_D,K_D_poor=K_D_poor,fraction=fraction,decay_1=decay_1)"
   ]
  },
  {
   "cell_type": "code",
   "execution_count": 4,
   "metadata": {},
   "outputs": [
    {
     "data": {
      "text/plain": [
       "2396.0776682484843"
      ]
     },
     "execution_count": 4,
     "metadata": {},
     "output_type": "execute_result"
    }
   ],
   "source": [
    "gui.param.get(\"rho\")"
   ]
  },
  {
   "cell_type": "code",
   "execution_count": 7,
   "metadata": {},
   "outputs": [
    {
     "name": "stdout",
     "output_type": "stream",
     "text": [
      "At step 0:\n",
      "K_D                       0.1\n",
      "K_D_poor                   10\n",
      "fraction                  0.1\n",
      "decay_1           0.000192541\n",
      "Tot_bound         7.46337e-07\n",
      "Tot_bound_unit           nmol\n",
      "r_0.1                 861.436\n",
      "r_0.1_unit             Micron\n",
      "r_0.25                824.708\n",
      "r_0.25_unit            Micron\n",
      "r_0.5                 787.145\n",
      "r_0.5_unit             Micron\n",
      "Name: 0, dtype: object\n",
      "-------------------\n",
      "At step 1:\n",
      "K_D                       0.1\n",
      "K_D_poor                   10\n",
      "fraction                  0.1\n",
      "decay_1           1.92541e-05\n",
      "Tot_bound         1.75488e-06\n",
      "Tot_bound_unit           nmol\n",
      "r_0.1                 601.002\n",
      "r_0.1_unit             Micron\n",
      "r_0.25                601.002\n",
      "r_0.25_unit            Micron\n",
      "r_0.5                 601.002\n",
      "r_0.5_unit             Micron\n",
      "Name: 1, dtype: object\n",
      "-------------------\n",
      "At step 2:\n",
      "K_D                       0.1\n",
      "K_D_poor                   10\n",
      "fraction                  0.9\n",
      "decay_1           0.000192541\n",
      "Tot_bound          1.5794e-05\n",
      "Tot_bound_unit           nmol\n",
      "r_0.1                 602.671\n",
      "r_0.1_unit             Micron\n",
      "r_0.25                602.671\n",
      "r_0.25_unit            Micron\n",
      "r_0.5                 602.671\n",
      "r_0.5_unit             Micron\n",
      "Name: 2, dtype: object\n",
      "-------------------\n",
      "At step 3:\n",
      "K_D                       0.1\n",
      "K_D_poor                   10\n",
      "fraction                  0.9\n",
      "decay_1           1.92541e-05\n",
      "Tot_bound         1.57928e-05\n",
      "Tot_bound_unit           nmol\n",
      "r_0.1                 581.803\n",
      "r_0.1_unit             Micron\n",
      "r_0.25                581.803\n",
      "r_0.25_unit            Micron\n",
      "r_0.5                 581.803\n",
      "r_0.5_unit             Micron\n",
      "Name: 3, dtype: object\n",
      "-------------------\n",
      "At step 4:\n",
      "K_D                       0.1\n",
      "K_D_poor                 1000\n",
      "fraction                  0.1\n",
      "decay_1           0.000192541\n",
      "Tot_bound         1.75344e-06\n",
      "Tot_bound_unit           nmol\n",
      "r_0.1                  833.89\n",
      "r_0.1_unit             Micron\n",
      "r_0.25                 833.89\n",
      "r_0.25_unit            Micron\n",
      "r_0.5                  833.89\n",
      "r_0.5_unit             Micron\n",
      "Name: 4, dtype: object\n",
      "-------------------\n",
      "At step 6:\n",
      "K_D                       0.1\n",
      "K_D_poor                 1000\n",
      "fraction                  0.9\n",
      "decay_1           0.000192541\n",
      "Tot_bound         1.57923e-05\n",
      "Tot_bound_unit           nmol\n",
      "r_0.1                 634.391\n",
      "r_0.1_unit             Micron\n",
      "r_0.25                634.391\n",
      "r_0.25_unit            Micron\n",
      "r_0.5                 634.391\n",
      "r_0.5_unit             Micron\n",
      "Name: 6, dtype: object\n",
      "-------------------\n",
      "At step 7:\n",
      "K_D                       0.1\n",
      "K_D_poor                 1000\n",
      "fraction                  0.9\n",
      "decay_1           1.92541e-05\n",
      "Tot_bound         1.57926e-05\n",
      "Tot_bound_unit           nmol\n",
      "r_0.1                 583.472\n",
      "r_0.1_unit             Micron\n",
      "r_0.25                583.472\n",
      "r_0.25_unit            Micron\n",
      "r_0.5                 583.472\n",
      "r_0.5_unit             Micron\n",
      "Name: 7, dtype: object\n",
      "-------------------\n",
      "At step 8:\n",
      "K_D                        10\n",
      "K_D_poor                   10\n",
      "fraction                  0.1\n",
      "decay_1           0.000192541\n",
      "Tot_bound         3.64525e-07\n",
      "Tot_bound_unit           nmol\n",
      "r_0.1                 784.641\n",
      "r_0.1_unit             Micron\n",
      "r_0.25                722.871\n",
      "r_0.25_unit            Micron\n",
      "r_0.5                 658.598\n",
      "r_0.5_unit             Micron\n",
      "Name: 8, dtype: object\n",
      "-------------------\n",
      "At step 9:\n",
      "K_D                        10\n",
      "K_D_poor                   10\n",
      "fraction                  0.1\n",
      "decay_1           1.92541e-05\n",
      "Tot_bound         1.61352e-06\n",
      "Tot_bound_unit           nmol\n",
      "r_0.1                  606.01\n",
      "r_0.1_unit             Micron\n",
      "r_0.25                 606.01\n",
      "r_0.25_unit            Micron\n",
      "r_0.5                  606.01\n",
      "r_0.5_unit             Micron\n",
      "Name: 9, dtype: object\n",
      "-------------------\n",
      "At step 10:\n",
      "K_D                        10\n",
      "K_D_poor                   10\n",
      "fraction                  0.9\n",
      "decay_1           0.000192541\n",
      "Tot_bound         1.43898e-05\n",
      "Tot_bound_unit           nmol\n",
      "r_0.1                  651.92\n",
      "r_0.1_unit             Micron\n",
      "r_0.25                 651.92\n",
      "r_0.25_unit            Micron\n",
      "r_0.5                  651.92\n",
      "r_0.5_unit             Micron\n",
      "Name: 10, dtype: object\n",
      "-------------------\n",
      "At step 11:\n",
      "K_D                        10\n",
      "K_D_poor                   10\n",
      "fraction                  0.9\n",
      "decay_1           1.92541e-05\n",
      "Tot_bound         1.44433e-05\n",
      "Tot_bound_unit           nmol\n",
      "r_0.1                 582.638\n",
      "r_0.1_unit             Micron\n",
      "r_0.25                582.638\n",
      "r_0.25_unit            Micron\n",
      "r_0.5                 582.638\n",
      "r_0.5_unit             Micron\n",
      "Name: 11, dtype: object\n",
      "-------------------\n",
      "At step 12:\n",
      "K_D                        10\n",
      "K_D_poor                 1000\n",
      "fraction                  0.1\n",
      "decay_1           0.000192541\n",
      "Tot_bound          1.5046e-06\n",
      "Tot_bound_unit           nmol\n",
      "r_0.1                  832.22\n",
      "r_0.1_unit             Micron\n",
      "r_0.25                 832.22\n",
      "r_0.25_unit            Micron\n",
      "r_0.5                  832.22\n",
      "r_0.5_unit             Micron\n",
      "Name: 12, dtype: object\n",
      "-------------------\n",
      "At step 13:\n",
      "K_D                        10\n",
      "K_D_poor                 1000\n",
      "fraction                  0.1\n",
      "decay_1           1.92541e-05\n",
      "Tot_bound         1.60021e-06\n",
      "Tot_bound_unit           nmol\n",
      "r_0.1                 629.382\n",
      "r_0.1_unit             Micron\n",
      "r_0.25                629.382\n",
      "r_0.25_unit            Micron\n",
      "r_0.5                 629.382\n",
      "r_0.5_unit             Micron\n",
      "Name: 13, dtype: object\n",
      "-------------------\n",
      "At step 14:\n",
      "K_D                        10\n",
      "K_D_poor                 1000\n",
      "fraction                  0.9\n",
      "decay_1           0.000192541\n",
      "Tot_bound         1.43985e-05\n",
      "Tot_bound_unit           nmol\n",
      "r_0.1                 633.556\n",
      "r_0.1_unit             Micron\n",
      "r_0.25                633.556\n",
      "r_0.25_unit            Micron\n",
      "r_0.5                 633.556\n",
      "r_0.5_unit             Micron\n",
      "Name: 14, dtype: object\n",
      "-------------------\n",
      "At step 15:\n",
      "K_D                        10\n",
      "K_D_poor                 1000\n",
      "fraction                  0.9\n",
      "decay_1           1.92541e-05\n",
      "Tot_bound         1.44246e-05\n",
      "Tot_bound_unit           nmol\n",
      "r_0.1                 583.472\n",
      "r_0.1_unit             Micron\n",
      "r_0.25                583.472\n",
      "r_0.25_unit            Micron\n",
      "r_0.5                 583.472\n",
      "r_0.5_unit             Micron\n",
      "Name: 15, dtype: object\n",
      "-------------------\n"
     ]
    }
   ],
   "source": [
    "result=generate_solutions(param,file=\"scan_result.csv\",n_step_pr_10=300)"
   ]
  },
  {
   "cell_type": "code",
   "execution_count": null,
   "metadata": {},
   "outputs": [],
   "source": []
  }
 ],
 "metadata": {
  "kernelspec": {
   "display_name": "Python 3 (ipykernel)",
   "language": "python",
   "name": "python3"
  },
  "language_info": {
   "codemirror_mode": {
    "name": "ipython",
    "version": 3
   },
   "file_extension": ".py",
   "mimetype": "text/x-python",
   "name": "python",
   "nbconvert_exporter": "python",
   "pygments_lexer": "ipython3",
   "version": "3.9.7"
  }
 },
 "nbformat": 4,
 "nbformat_minor": 4
}
