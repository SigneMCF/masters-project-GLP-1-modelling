{
 "cells": [
  {
   "cell_type": "markdown",
   "metadata": {},
   "source": [
    "## 3 body equilibrium\n",
    "In the following, A and C represent two different ligands and B represents a bivalent protein. The two binary dissociation constants are denoted K_AB and K_BC which represent the binding equilibrium when the other ligand is not bound to the protein. The three body cooperativity is modelling by the dimensionless parameter, alpha. If the interaction between B-C is independent of the A-B binding (and visa versa) the system is non-cooperative corresponding to alpha=1. Positive cooperativity (e.g. as typical for allostery) is represented by alpha>1, negative by 0<alpha<1. Notation and modeling approach adapted from \"A comprehensive Mathematical Model for Three-Body Binding Equilibria\", E.F Douglass et. al., JACS 2013, 6092-6099. In essence,\n",
    "A + B <-> AB (K_AB),  B+ C <-> BC  (K_BC), A+ BC <-> ABC (K_AB/alpha) , AB + C <-> ABC (K_BC/alpha)"
   ]
  },
  {
   "cell_type": "code",
   "execution_count": 1,
   "metadata": {},
   "outputs": [],
   "source": [
    "import sys\n",
    "import os\n",
    "sys.path.append('/novo/users/{}/jupyter.notebooks/temporary/NIKU/'.format(os.environ.get('USER')))\n",
    "from cellmodel import CellModel as CellModel\n",
    "import numpy as np\n",
    "import matplotlib.pyplot as plt\n",
    "from parameters_df import *"
   ]
  },
  {
   "cell_type": "code",
   "execution_count": 2,
   "metadata": {},
   "outputs": [],
   "source": [
    "def binary_complex(atot,btot,k):\n",
    "    q=atot+btot+k\n",
    "    return 0.5*(q-np.sqrt(q*q-4*atot*btot))\n",
    "\n",
    "def get_k(ab,atot):\n",
    "    return ab+atot/ab-(1+atot)"
   ]
  },
  {
   "cell_type": "code",
   "execution_count": 3,
   "metadata": {},
   "outputs": [],
   "source": [
    "mycell=CellModel()"
   ]
  },
  {
   "cell_type": "code",
   "execution_count": 4,
   "metadata": {},
   "outputs": [],
   "source": [
    "myparameters=Parameters()"
   ]
  },
  {
   "cell_type": "code",
   "execution_count": 5,
   "metadata": {},
   "outputs": [
    {
     "data": {
      "text/html": [
       "<div>\n",
       "<style scoped>\n",
       "    .dataframe tbody tr th:only-of-type {\n",
       "        vertical-align: middle;\n",
       "    }\n",
       "\n",
       "    .dataframe tbody tr th {\n",
       "        vertical-align: top;\n",
       "    }\n",
       "\n",
       "    .dataframe thead th {\n",
       "        text-align: right;\n",
       "    }\n",
       "</style>\n",
       "<table border=\"1\" class=\"dataframe\">\n",
       "  <thead>\n",
       "    <tr style=\"text-align: right;\">\n",
       "      <th></th>\n",
       "      <th>value</th>\n",
       "      <th>comment</th>\n",
       "    </tr>\n",
       "  </thead>\n",
       "  <tbody>\n",
       "    <tr>\n",
       "      <th>r_cell</th>\n",
       "      <td>1.000000e+04</td>\n",
       "      <td>Cell radius in nm</td>\n",
       "    </tr>\n",
       "    <tr>\n",
       "      <th>b</th>\n",
       "      <td>1.000000e+01</td>\n",
       "      <td>Surface thickness in nm</td>\n",
       "    </tr>\n",
       "    <tr>\n",
       "      <th>K_RL</th>\n",
       "      <td>1.000000e+01</td>\n",
       "      <td>Dissociation constant (nM) of poor, in-active ...</td>\n",
       "    </tr>\n",
       "    <tr>\n",
       "      <th>K_GRL</th>\n",
       "      <td>1.000000e-01</td>\n",
       "      <td>Dissociation constant (nM) of active binder: G...</td>\n",
       "    </tr>\n",
       "    <tr>\n",
       "      <th>fraction</th>\n",
       "      <td>1.000000e-01</td>\n",
       "      <td>Fraction of active receptors</td>\n",
       "    </tr>\n",
       "    <tr>\n",
       "      <th>r_tube</th>\n",
       "      <td>1.000000e+02</td>\n",
       "      <td>Tube radius (nM) Intercellular distance/2</td>\n",
       "    </tr>\n",
       "    <tr>\n",
       "      <th>v</th>\n",
       "      <td>0.000000e+00</td>\n",
       "      <td>Advective flow velocity (nm/sec). Used to be 1...</td>\n",
       "    </tr>\n",
       "    <tr>\n",
       "      <th>D</th>\n",
       "      <td>1.000000e+07</td>\n",
       "      <td>Ligand diffusion (nm^2/s)</td>\n",
       "    </tr>\n",
       "    <tr>\n",
       "      <th>decay</th>\n",
       "      <td>1.925409e-05</td>\n",
       "      <td>Interstititum clearence rate (/sec). Default c...</td>\n",
       "    </tr>\n",
       "    <tr>\n",
       "      <th>clearance_rate</th>\n",
       "      <td>1.925409e-04</td>\n",
       "      <td>Receptor mediated clearance rate (/sec). Defau...</td>\n",
       "    </tr>\n",
       "    <tr>\n",
       "      <th>recycling_rate</th>\n",
       "      <td>1.925409e-04</td>\n",
       "      <td>Receptor recycling rate (/sec). Default calcul...</td>\n",
       "    </tr>\n",
       "    <tr>\n",
       "      <th>k_d_fixed</th>\n",
       "      <td>9.627044e-05</td>\n",
       "      <td>Fixed dissociation rate for active ligand-rece...</td>\n",
       "    </tr>\n",
       "    <tr>\n",
       "      <th>V_reservoir</th>\n",
       "      <td>1.000000e+18</td>\n",
       "      <td>Reservoir/source volume (nm^3).</td>\n",
       "    </tr>\n",
       "    <tr>\n",
       "      <th>interstitium_vol_fraction</th>\n",
       "      <td>1.000000e-02</td>\n",
       "      <td>Volume fraction of interstitium</td>\n",
       "    </tr>\n",
       "    <tr>\n",
       "      <th>r_min</th>\n",
       "      <td>5.000000e+05</td>\n",
       "      <td>Radius of source (nm)</td>\n",
       "    </tr>\n",
       "    <tr>\n",
       "      <th>r_max</th>\n",
       "      <td>1.000000e+06</td>\n",
       "      <td>Total simulation radius corresponding to dista...</td>\n",
       "    </tr>\n",
       "    <tr>\n",
       "      <th>L0</th>\n",
       "      <td>1.000000e+02</td>\n",
       "      <td>Initial source concentration (nM)</td>\n",
       "    </tr>\n",
       "    <tr>\n",
       "      <th>f_active</th>\n",
       "      <td>1.000000e-01</td>\n",
       "      <td>Fraction of active receptors (GR) compared to ...</td>\n",
       "    </tr>\n",
       "  </tbody>\n",
       "</table>\n",
       "</div>"
      ],
      "text/plain": [
       "                                  value  \\\n",
       "r_cell                     1.000000e+04   \n",
       "b                          1.000000e+01   \n",
       "K_RL                       1.000000e+01   \n",
       "K_GRL                      1.000000e-01   \n",
       "fraction                   1.000000e-01   \n",
       "r_tube                     1.000000e+02   \n",
       "v                          0.000000e+00   \n",
       "D                          1.000000e+07   \n",
       "decay                      1.925409e-05   \n",
       "clearance_rate             1.925409e-04   \n",
       "recycling_rate             1.925409e-04   \n",
       "k_d_fixed                  9.627044e-05   \n",
       "V_reservoir                1.000000e+18   \n",
       "interstitium_vol_fraction  1.000000e-02   \n",
       "r_min                      5.000000e+05   \n",
       "r_max                      1.000000e+06   \n",
       "L0                         1.000000e+02   \n",
       "f_active                   1.000000e-01   \n",
       "\n",
       "                                                                     comment  \n",
       "r_cell                                                     Cell radius in nm  \n",
       "b                                                    Surface thickness in nm  \n",
       "K_RL                       Dissociation constant (nM) of poor, in-active ...  \n",
       "K_GRL                      Dissociation constant (nM) of active binder: G...  \n",
       "fraction                                        Fraction of active receptors  \n",
       "r_tube                             Tube radius (nM) Intercellular distance/2  \n",
       "v                          Advective flow velocity (nm/sec). Used to be 1...  \n",
       "D                                                  Ligand diffusion (nm^2/s)  \n",
       "decay                      Interstititum clearence rate (/sec). Default c...  \n",
       "clearance_rate             Receptor mediated clearance rate (/sec). Defau...  \n",
       "recycling_rate             Receptor recycling rate (/sec). Default calcul...  \n",
       "k_d_fixed                  Fixed dissociation rate for active ligand-rece...  \n",
       "V_reservoir                                  Reservoir/source volume (nm^3).  \n",
       "interstitium_vol_fraction                    Volume fraction of interstitium  \n",
       "r_min                                                  Radius of source (nm)  \n",
       "r_max                      Total simulation radius corresponding to dista...  \n",
       "L0                                         Initial source concentration (nM)  \n",
       "f_active                   Fraction of active receptors (GR) compared to ...  "
      ]
     },
     "execution_count": 5,
     "metadata": {},
     "output_type": "execute_result"
    }
   ],
   "source": [
    "myparameters.my_param"
   ]
  },
  {
   "cell_type": "code",
   "execution_count": 6,
   "metadata": {},
   "outputs": [
    {
     "data": {
      "text/plain": [
       "{'Rtot': {'value': 2396.0776682484843,\n",
       "  'comment': 'Total density of receptors (nM)'},\n",
       " 'k_d_poor': {'value': None,\n",
       "  'comment': 'Dissociation rate of receptor-inactive ligand binding (/sec)'},\n",
       " 'k_a': {'value': 0.0009627044174443685,\n",
       "  'comment': 'Association rate for receptor-ligand binding (/(sec*nM)). Assumed the same for both active and inactive receptor'},\n",
       " 'K_RL_clearance': {'value': 10.200000000000001,\n",
       "  'comment': 'Effective dissocation constant for receptor-inactive ligand binding, R+L <-> RL (nM), shifted due to clearance.'},\n",
       " 'K_GR': {'value': 213490.52024093995,\n",
       "  'comment': 'Dissociation constant for R <-> GR'},\n",
       " 'cooperativity': {'value': 100.0,\n",
       "  'comment': 'Cooperativity of GR-> GRL (RL -> GRL) compared to R->RL (R -> GR)'},\n",
       " 'Gtot': {'value': 23960.776682484844,\n",
       "  'comment': 'Total concentration of available G-proteins'}}"
      ]
     },
     "execution_count": 6,
     "metadata": {},
     "output_type": "execute_result"
    }
   ],
   "source": [
    "myparameters.calc_dict"
   ]
  },
  {
   "cell_type": "code",
   "execution_count": 6,
   "metadata": {},
   "outputs": [],
   "source": [
    "mycell=CellModel()\n",
    "mycell.set(myparameters)"
   ]
  },
  {
   "cell_type": "code",
   "execution_count": 8,
   "metadata": {},
   "outputs": [
    {
     "data": {
      "text/plain": [
       "23960.776682484844"
      ]
     },
     "execution_count": 8,
     "metadata": {},
     "output_type": "execute_result"
    }
   ],
   "source": [
    "mycell.Rtot\n",
    "mycell.Gtot"
   ]
  },
  {
   "cell_type": "code",
   "execution_count": 3,
   "metadata": {},
   "outputs": [],
   "source": [
    "mycell=CellModel()\n",
    "mycell.Gtot=10\n",
    "mycell.K_GR=89.1\n",
    "mycell.K_RL=10/2300  # receptor concentration is 2300 nM\n",
    "mycell.alpha=100\n",
    "log_space=np.linspace(-10,6,100)\n",
    "ltot=np.exp(log_space)\n",
    "grl=np.zeros(len(ltot))\n",
    "equil=np.zeros((len(ltot),len(mycell.molecule_enum)))\n",
    "xlast=None\n",
    "for i in range(0,len(ltot)):\n",
    "    mycell.Ltot=ltot[i]\n",
    "    equil[i,:]=mycell.get_eq(xlast)\n",
    "    xlast=equil[i,:]\n",
    "    "
   ]
  },
  {
   "cell_type": "code",
   "execution_count": 5,
   "metadata": {},
   "outputs": [
    {
     "data": {
      "image/png": "[encoded data removed]",
      "text/plain": [
       "<Figure size 432x288 with 3 Axes>"
      ]
     },
     "metadata": {
      "needs_background": "light"
     },
     "output_type": "display_data"
    }
   ],
   "source": [
    "plt.subplot(3,1,1)\n",
    "plt.plot(ltot,equil[:,mycell.molecule_enum['GRL']])\n",
    "plt.xscale('log')\n",
    "plt.subplot(3,1,2)\n",
    "plt.plot(ltot,equil[:,mycell.molecule_enum['RL']])\n",
    "plt.xscale('log')\n",
    "plt.subplot(3,1,3)\n",
    "plt.plot(ltot,equil[:,mycell.molecule_enum['GR']])\n",
    "plt.xscale('log')\n",
    "plt.show()"
   ]
  },
  {
   "cell_type": "raw",
   "metadata": {},
   "source": [
    "me=mycell.molecule_enum\n",
    "rtot_x=equil[:,me['r']]+equil[:,me['rl']]+equil[:,me['gr']]+equil[:,me['grl']]"
   ]
  },
  {
   "cell_type": "code",
   "execution_count": 77,
   "metadata": {},
   "outputs": [
    {
     "data": {
      "text/plain": [
       "array([1.e-02, 5.e-02, 1.e-01, 5.e-01, 1.e+00, 5.e+00, 1.e+01, 5.e+01,\n",
       "       1.e+02])"
      ]
     },
     "execution_count": 77,
     "metadata": {},
     "output_type": "execute_result"
    }
   ],
   "source": [
    "rtot_x"
   ]
  },
  {
   "cell_type": "code",
   "execution_count": 95,
   "metadata": {},
   "outputs": [
    {
     "data": {
      "text/plain": [
       "1"
      ]
     },
     "execution_count": 95,
     "metadata": {},
     "output_type": "execute_result"
    }
   ],
   "source": [
    "mycell.rtot"
   ]
  },
  {
   "cell_type": "code",
   "execution_count": 78,
   "metadata": {},
   "outputs": [
    {
     "data": {
      "text/plain": [
       "array([ 0.00000000e+00, -9.99900000e+01,  0.00000000e+00,  2.09414344e-12,\n",
       "        2.09414344e-12,  6.78263522e-12])"
      ]
     },
     "execution_count": 78,
     "metadata": {},
     "output_type": "execute_result"
    }
   ],
   "source": [
    "mycell.get_constraints(equil[0,:])"
   ]
  },
  {
   "cell_type": "code",
   "execution_count": 26,
   "metadata": {},
   "outputs": [],
   "source": [
    "s=2.3"
   ]
  },
  {
   "cell_type": "code",
   "execution_count": 28,
   "metadata": {},
   "outputs": [
    {
     "name": "stdout",
     "output_type": "stream",
     "text": [
      "<class 'float'>\n"
     ]
    }
   ],
   "source": [
    "print(type(s))"
   ]
  },
  {
   "cell_type": "code",
   "execution_count": 9,
   "metadata": {},
   "outputs": [
    {
     "name": "stdout",
     "output_type": "stream",
     "text": [
      "10\n",
      "9\n",
      "8\n",
      "7\n",
      "6\n",
      "5\n",
      "4\n",
      "3\n",
      "2\n",
      "1\n"
     ]
    }
   ],
   "source": [
    "for i in range(10,0,-1):\n",
    "    print(i)"
   ]
  },
  {
   "cell_type": "code",
   "execution_count": 1,
   "metadata": {},
   "outputs": [],
   "source": [
    "import numpy as np"
   ]
  },
  {
   "cell_type": "code",
   "execution_count": 2,
   "metadata": {},
   "outputs": [],
   "source": [
    "l=np.array([1,2,3,4])"
   ]
  },
  {
   "cell_type": "code",
   "execution_count": 3,
   "metadata": {},
   "outputs": [
    {
     "ename": "AttributeError",
     "evalue": "'numpy.ndarray' object has no attribute 'index'",
     "output_type": "error",
     "traceback": [
      "\u001b[0;31m---------------------------------------------------------------------------\u001b[0m",
      "\u001b[0;31mAttributeError\u001b[0m                            Traceback (most recent call last)",
      "\u001b[0;32m<ipython-input-3-f6d37febc116>\u001b[0m in \u001b[0;36m<module>\u001b[0;34m\u001b[0m\n\u001b[0;32m----> 1\u001b[0;31m \u001b[0ml\u001b[0m\u001b[0;34m.\u001b[0m\u001b[0mindex\u001b[0m\u001b[0;34m(\u001b[0m\u001b[0;36m2\u001b[0m\u001b[0;34m)\u001b[0m\u001b[0;34m\u001b[0m\u001b[0;34m\u001b[0m\u001b[0m\n\u001b[0m",
      "\u001b[0;31mAttributeError\u001b[0m: 'numpy.ndarray' object has no attribute 'index'"
     ]
    }
   ],
   "source": [
    "l.index(2)"
   ]
  },
  {
   "cell_type": "code",
   "execution_count": 13,
   "metadata": {},
   "outputs": [],
   "source": [
    "v,=np.where(l==0)"
   ]
  },
  {
   "cell_type": "code",
   "execution_count": 16,
   "metadata": {},
   "outputs": [
    {
     "data": {
      "text/plain": [
       "0"
      ]
     },
     "execution_count": 16,
     "metadata": {},
     "output_type": "execute_result"
    }
   ],
   "source": [
    "len(v)"
   ]
  },
  {
   "cell_type": "code",
   "execution_count": null,
   "metadata": {},
   "outputs": [],
   "source": []
  }
 ],
 "metadata": {
  "kernelspec": {
   "display_name": "Python 3 (ipykernel)",
   "language": "python",
   "name": "python3"
  },
  "language_info": {
   "codemirror_mode": {
    "name": "ipython",
    "version": 3
   },
   "file_extension": ".py",
   "mimetype": "text/x-python",
   "name": "python",
   "nbconvert_exporter": "python",
   "pygments_lexer": "ipython3",
   "version": "3.9.7"
  }
 },
 "nbformat": 4,
 "nbformat_minor": 4
}
