{
 "cells": [
  {
   "cell_type": "code",
   "execution_count": 1,
   "id": "d857f060-1401-48d6-9965-bfb8736398d7",
   "metadata": {},
   "outputs": [],
   "source": [
    "import numpy as np"
   ]
  },
  {
   "cell_type": "code",
   "execution_count": 2,
   "id": "82c8dce3-29db-4290-902d-1c196cadd376",
   "metadata": {},
   "outputs": [],
   "source": [
    "a=np.array([1,2,3])"
   ]
  },
  {
   "cell_type": "code",
   "execution_count": 9,
   "id": "7fb4afd9-93af-46a8-8cd9-93093fd7c90a",
   "metadata": {},
   "outputs": [],
   "source": [
    "ex=str(1.23)+'\\t'+'\\t'.join(b)"
   ]
  },
  {
   "cell_type": "code",
   "execution_count": 10,
   "id": "40fbba95-4fa2-43fd-a5b3-1ab9043170d6",
   "metadata": {},
   "outputs": [
    {
     "name": "stdout",
     "output_type": "stream",
     "text": [
      "1.23\t1\t2\t3\n"
     ]
    }
   ],
   "source": [
    "print(ex)"
   ]
  },
  {
   "cell_type": "code",
   "execution_count": 5,
   "id": "8b279d86-e953-4731-8e1d-2e3fdfa14330",
   "metadata": {},
   "outputs": [
    {
     "data": {
      "text/plain": [
       "array(['1', '2', '3'], dtype='<U21')"
      ]
     },
     "execution_count": 5,
     "metadata": {},
     "output_type": "execute_result"
    }
   ],
   "source": [
    "b"
   ]
  },
  {
   "cell_type": "code",
   "execution_count": null,
   "id": "7c3f65aa-976d-48ee-9cb1-5cc2a7ce364a",
   "metadata": {},
   "outputs": [],
   "source": []
  }
 ],
 "metadata": {
  "kernelspec": {
   "display_name": "Python 3 (ipykernel)",
   "language": "python",
   "name": "python3"
  },
  "language_info": {
   "codemirror_mode": {
    "name": "ipython",
    "version": 3
   },
   "file_extension": ".py",
   "mimetype": "text/x-python",
   "name": "python",
   "nbconvert_exporter": "python",
   "pygments_lexer": "ipython3",
   "version": "3.9.7"
  }
 },
 "nbformat": 4,
 "nbformat_minor": 5
}
